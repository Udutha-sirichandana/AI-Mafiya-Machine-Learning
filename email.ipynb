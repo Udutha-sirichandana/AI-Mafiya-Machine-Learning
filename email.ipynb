{
 "cells": [
  {
   "cell_type": "code",
   "execution_count": 4,
   "metadata": {},
   "outputs": [
    {
     "name": "stdout",
     "output_type": "stream",
     "text": [
      "········\n"
     ]
    }
   ],
   "source": [
    "import smtplib\n",
    "import getpass\n",
    "from email.mime.text import MIMEText\n",
    "def send_Email():\n",
    "    sender_address='siri012001@gmail.com'\n",
    "    password= getpass.getpass()\n",
    "    subject=\" Learn.Inspire.Grow\"\n",
    "    msg=''' Hello Everyone!\n",
    "    i am sirichandana \n",
    "    '''\n",
    "    server = smtplib.SMTP(\"smtp.gmail.com\",587)\n",
    "    server.starttls()\n",
    "    server.login(sender_address,password)\n",
    "    recipients='siri012001@gmail.com'\n",
    "\n",
    "    msg = MIMEText(msg)\n",
    "    msg['Subject']=subject\n",
    "    msg['from']=sender_address\n",
    "    msg['To']=\"siri012001@gmail.com\"\n",
    "    \n",
    "    server.sendmail(sender_address,recipients,msg.as_string())\n",
    "send_Email()\n"
   ]
  },
  {
   "cell_type": "code",
   "execution_count": null,
   "metadata": {},
   "outputs": [],
   "source": [
    "\n"
   ]
  },
  {
   "cell_type": "code",
   "execution_count": null,
   "metadata": {},
   "outputs": [],
   "source": []
  }
 ],
 "metadata": {
  "kernelspec": {
   "display_name": "Python 3",
   "language": "python",
   "name": "python3"
  },
  "language_info": {
   "codemirror_mode": {
    "name": "ipython",
    "version": 3
   },
   "file_extension": ".py",
   "mimetype": "text/x-python",
   "name": "python",
   "nbconvert_exporter": "python",
   "pygments_lexer": "ipython3",
   "version": "3.7.6"
  }
 },
 "nbformat": 4,
 "nbformat_minor": 4
}
