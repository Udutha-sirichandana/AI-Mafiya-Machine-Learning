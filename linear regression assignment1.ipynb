{
 "cells": [
  {
   "cell_type": "code",
   "execution_count": 2,
   "metadata": {},
   "outputs": [],
   "source": [
    "import numpy as np\n",
    "import pandas as pd\n",
    "import matplotlib.pyplot as plt\n"
   ]
  },
  {
   "cell_type": "code",
   "execution_count": 3,
   "metadata": {},
   "outputs": [],
   "source": [
    "train_x=pd.read_csv(r\"C:\\Users\\DELL\\Downloads\\Linear_X_Train.csv\")\n",
    "train_y=pd.read_csv(r\"C:\\Users\\DELL\\Downloads\\Linear_Y_Train.csv\")\n",
    "test_x=pd.read_csv(r\"C:\\Users\\DELL\\Downloads\\Linear_X_Test.csv\")"
   ]
  },
  {
   "cell_type": "code",
   "execution_count": 4,
   "metadata": {},
   "outputs": [
    {
     "name": "stdout",
     "output_type": "stream",
     "text": [
      "(3750, 1) (3750, 1) (1250, 1)\n",
      "[[-0.28930742]\n",
      " [-0.58880963]\n",
      " [ 1.02750749]\n",
      " ...\n",
      " [-0.30516366]\n",
      " [ 1.67583291]\n",
      " [-0.49175724]] [[-9.11011171e-02]\n",
      " [-5.34677208e+01]\n",
      " [ 7.54570088e+01]\n",
      " ...\n",
      " [-3.49832749e+01]\n",
      " [ 1.45206092e+02]\n",
      " [-1.71244939e+01]] [[-1.87794441]\n",
      " [-0.86903192]\n",
      " [-2.53018242]\n",
      " ...\n",
      " [ 0.12800782]\n",
      " [-0.27803759]\n",
      " [-0.68042543]]\n"
     ]
    }
   ],
   "source": [
    "x=train_x.values\n",
    "y=train_y.values\n",
    "z=test_x.values\n",
    "x=x.reshape((-1,1))\n",
    "y=y.reshape((-1,1))\n",
    "z=z.reshape((-1,1))\n",
    "print(x.shape,y.shape,z.shape)\n",
    "print(x,y,z)"
   ]
  },
  {
   "cell_type": "code",
   "execution_count": 5,
   "metadata": {},
   "outputs": [
    {
     "data": {
      "image/png": "[encoded data removed]",
      "text/plain": [
       "<Figure size 432x288 with 1 Axes>"
      ]
     },
     "metadata": {
      "needs_background": "light"
     },
     "output_type": "display_data"
    }
   ],
   "source": [
    "plt.scatter(x,y)\n",
    "plt.show()"
   ]
  },
  {
   "cell_type": "code",
   "execution_count": 6,
   "metadata": {},
   "outputs": [],
   "source": [
    "from sklearn.linear_model import LinearRegression\n"
   ]
  },
  {
   "cell_type": "code",
   "execution_count": 7,
   "metadata": {},
   "outputs": [],
   "source": [
    "model = LinearRegression()"
   ]
  },
  {
   "cell_type": "code",
   "execution_count": 8,
   "metadata": {},
   "outputs": [
    {
     "data": {
      "text/plain": [
       "LinearRegression(copy_X=True, fit_intercept=True, n_jobs=None, normalize=False)"
      ]
     },
     "execution_count": 8,
     "metadata": {},
     "output_type": "execute_result"
    }
   ],
   "source": [
    "model.fit(x,y)"
   ]
  },
  {
   "cell_type": "code",
   "execution_count": 9,
   "metadata": {},
   "outputs": [
    {
     "name": "stdout",
     "output_type": "stream",
     "text": [
      "(3750, 1)\n",
      "<class 'numpy.ndarray'>\n",
      "[[-19.57388181]\n",
      " [-43.69687794]\n",
      " [ 86.48717332]\n",
      " ...\n",
      " [-20.85100092]\n",
      " [138.7056574 ]\n",
      " [-35.87992564]]\n"
     ]
    }
   ],
   "source": [
    "output = model.predict(x)\n",
    "print(output.shape,type(output),output,sep=\"\\n\")"
   ]
  },
  {
   "cell_type": "code",
   "execution_count": 10,
   "metadata": {},
   "outputs": [
    {
     "name": "stdout",
     "output_type": "stream",
     "text": [
      "[3.72798828]\n",
      "[[80.54363185]]\n"
     ]
    }
   ],
   "source": [
    "bias = model.intercept_\n",
    "coeff = model.coef_\n",
    "\n",
    "print(bias)\n",
    "print(coeff)"
   ]
  },
  {
   "cell_type": "code",
   "execution_count": 45,
   "metadata": {},
   "outputs": [
    {
     "data": {
      "text/plain": [
       "0.9709612233822353"
      ]
     },
     "execution_count": 45,
     "metadata": {},
     "output_type": "execute_result"
    }
   ],
   "source": [
    "model.score(x,y)"
   ]
  },
  {
   "cell_type": "code",
   "execution_count": 11,
   "metadata": {},
   "outputs": [
    {
     "data": {
      "image/png": "[encoded data removed]",
      "text/plain": [
       "<Figure size 432x288 with 1 Axes>"
      ]
     },
     "metadata": {
      "needs_background": "light"
     },
     "output_type": "display_data"
    }
   ],
   "source": [
    "\n",
    "plt.scatter(x,y,label='data')\n",
    "plt.plot(x,output,color='orange',label='prediction')\n",
    "plt.legend()\n",
    "plt.show()\n"
   ]
  },
  {
   "cell_type": "code",
   "execution_count": 12,
   "metadata": {},
   "outputs": [
    {
     "name": "stdout",
     "output_type": "stream",
     "text": [
      "[[-147.52847525]\n",
      " [ -66.26699842]\n",
      " [-200.06209345]\n",
      " ...\n",
      " [  14.0382031 ]\n",
      " [ -18.66616899]\n",
      " [ -51.07594693]] (1250, 1) <class 'numpy.ndarray'>\n"
     ]
    }
   ],
   "source": [
    "testoutput=model.predict(z)\n",
    "print(testoutput,testoutput.shape,type(testoutput))"
   ]
  },
  {
   "cell_type": "code",
   "execution_count": 17,
   "metadata": {},
   "outputs": [
    {
     "data": {
      "text/plain": [
       "<matplotlib.legend.Legend at 0x1e5f885ec88>"
      ]
     },
     "execution_count": 17,
     "metadata": {},
     "output_type": "execute_result"
    },
    {
     "data": {
      "image/png": "[encoded data removed]",
      "text/plain": [
       "<Figure size 720x360 with 1 Axes>"
      ]
     },
     "metadata": {
      "needs_background": "light"
     },
     "output_type": "display_data"
    }
   ],
   "source": [
    "plt.figure(figsize=(10,5))\n",
    "plt.scatter(z,testoutput,color='orange',label='prediction')\n",
    "plt.legend()"
   ]
  },
  {
   "cell_type": "code",
   "execution_count": 16,
   "metadata": {},
   "outputs": [
    {
     "data": {
      "text/plain": [
       "<matplotlib.legend.Legend at 0x1e5f87eb308>"
      ]
     },
     "execution_count": 16,
     "metadata": {},
     "output_type": "execute_result"
    },
    {
     "data": {
      "image/png": "[encoded data removed]",
      "text/plain": [
       "<Figure size 720x360 with 1 Axes>"
      ]
     },
     "metadata": {
      "needs_background": "light"
     },
     "output_type": "display_data"
    }
   ],
   "source": [
    "plt.figure(figsize=(10,5))\n",
    "plt.plot(z,testoutput,color='orange',label='prediction')\n",
    "plt.legend()"
   ]
  },
  {
   "cell_type": "code",
   "execution_count": 48,
   "metadata": {},
   "outputs": [
    {
     "data": {
      "text/html": [
       "<div>\n",
       "<style scoped>\n",
       "    .dataframe tbody tr th:only-of-type {\n",
       "        vertical-align: middle;\n",
       "    }\n",
       "\n",
       "    .dataframe tbody tr th {\n",
       "        vertical-align: top;\n",
       "    }\n",
       "\n",
       "    .dataframe thead th {\n",
       "        text-align: right;\n",
       "    }\n",
       "</style>\n",
       "<table border=\"1\" class=\"dataframe\">\n",
       "  <thead>\n",
       "    <tr style=\"text-align: right;\">\n",
       "      <th></th>\n",
       "      <th>x</th>\n",
       "      <th>predicted output</th>\n",
       "    </tr>\n",
       "  </thead>\n",
       "  <tbody>\n",
       "    <tr>\n",
       "      <th>0</th>\n",
       "      <td>-1.877944</td>\n",
       "      <td>-147.528475</td>\n",
       "    </tr>\n",
       "    <tr>\n",
       "      <th>1</th>\n",
       "      <td>-0.869032</td>\n",
       "      <td>-66.266998</td>\n",
       "    </tr>\n",
       "    <tr>\n",
       "      <th>2</th>\n",
       "      <td>-2.530182</td>\n",
       "      <td>-200.062093</td>\n",
       "    </tr>\n",
       "    <tr>\n",
       "      <th>3</th>\n",
       "      <td>2.760205</td>\n",
       "      <td>226.044960</td>\n",
       "    </tr>\n",
       "    <tr>\n",
       "      <th>4</th>\n",
       "      <td>0.591000</td>\n",
       "      <td>51.329285</td>\n",
       "    </tr>\n",
       "    <tr>\n",
       "      <th>...</th>\n",
       "      <td>...</td>\n",
       "      <td>...</td>\n",
       "    </tr>\n",
       "    <tr>\n",
       "      <th>1245</th>\n",
       "      <td>-0.168058</td>\n",
       "      <td>-9.808053</td>\n",
       "    </tr>\n",
       "    <tr>\n",
       "      <th>1246</th>\n",
       "      <td>0.932223</td>\n",
       "      <td>78.812578</td>\n",
       "    </tr>\n",
       "    <tr>\n",
       "      <th>1247</th>\n",
       "      <td>0.128008</td>\n",
       "      <td>14.038203</td>\n",
       "    </tr>\n",
       "    <tr>\n",
       "      <th>1248</th>\n",
       "      <td>-0.278038</td>\n",
       "      <td>-18.666169</td>\n",
       "    </tr>\n",
       "    <tr>\n",
       "      <th>1249</th>\n",
       "      <td>-0.680425</td>\n",
       "      <td>-51.075947</td>\n",
       "    </tr>\n",
       "  </tbody>\n",
       "</table>\n",
       "<p>1250 rows × 2 columns</p>\n",
       "</div>"
      ],
      "text/plain": [
       "             x  predicted output\n",
       "0    -1.877944       -147.528475\n",
       "1    -0.869032        -66.266998\n",
       "2    -2.530182       -200.062093\n",
       "3     2.760205        226.044960\n",
       "4     0.591000         51.329285\n",
       "...        ...               ...\n",
       "1245 -0.168058         -9.808053\n",
       "1246  0.932223         78.812578\n",
       "1247  0.128008         14.038203\n",
       "1248 -0.278038        -18.666169\n",
       "1249 -0.680425        -51.075947\n",
       "\n",
       "[1250 rows x 2 columns]"
      ]
     },
     "execution_count": 48,
     "metadata": {},
     "output_type": "execute_result"
    }
   ],
   "source": [
    "out=pd.DataFrame()\n",
    "out['x']=z.reshape(-1,)\n",
    "out['predicted output']=output\n",
    "out"
   ]
  },
  {
   "cell_type": "code",
   "execution_count": 52,
   "metadata": {},
   "outputs": [],
   "source": [
    "out.to_csv(\"Linear_X_Test.csv\",index=False,header=True)"
   ]
  },
  {
   "cell_type": "code",
   "execution_count": null,
   "metadata": {},
   "outputs": [],
   "source": []
  },
  {
   "cell_type": "code",
   "execution_count": null,
   "metadata": {},
   "outputs": [],
   "source": []
  }
 ],
 "metadata": {
  "kernelspec": {
   "display_name": "Python 3",
   "language": "python",
   "name": "python3"
  },
  "language_info": {
   "codemirror_mode": {
    "name": "ipython",
    "version": 3
   },
   "file_extension": ".py",
   "mimetype": "text/x-python",
   "name": "python",
   "nbconvert_exporter": "python",
   "pygments_lexer": "ipython3",
   "version": "3.7.6"
  }
 },
 "nbformat": 4,
 "nbformat_minor": 4
}
